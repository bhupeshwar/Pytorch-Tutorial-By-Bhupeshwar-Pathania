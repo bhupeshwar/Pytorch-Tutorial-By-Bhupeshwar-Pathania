{
 "cells": [
  {
   "cell_type": "markdown",
   "id": "307c0256-9f14-49cd-a5b9-1a6d19ddcf23",
   "metadata": {},
   "source": [
    "###  Back Propogation Using Pytorch"
   ]
  },
  {
   "cell_type": "markdown",
   "id": "9fd870a1-ab8a-4316-86df-76b7fc72327f",
   "metadata": {},
   "source": [
    "y=x^2"
   ]
  },
  {
   "cell_type": "code",
   "execution_count": 2,
   "id": "dfc82d66-fc2d-4634-949f-8db2bac608cd",
   "metadata": {},
   "outputs": [],
   "source": [
    "import torch"
   ]
  },
  {
   "cell_type": "code",
   "execution_count": 3,
   "id": "eb1bc755-06d3-4726-a891-6e28a4e23f2b",
   "metadata": {},
   "outputs": [],
   "source": [
    "x=torch.tensor(4.0, requires_grad=True)"
   ]
  },
  {
   "cell_type": "code",
   "execution_count": 4,
   "id": "6a86139d-8c2c-493e-b11d-122f020dfe43",
   "metadata": {},
   "outputs": [
    {
     "data": {
      "text/plain": [
       "tensor(4., requires_grad=True)"
      ]
     },
     "execution_count": 4,
     "metadata": {},
     "output_type": "execute_result"
    }
   ],
   "source": [
    "x"
   ]
  },
  {
   "cell_type": "code",
   "execution_count": 5,
   "id": "ba7aa532-abb5-4e39-99d5-eed28d9db7c6",
   "metadata": {},
   "outputs": [
    {
     "data": {
      "text/plain": [
       "tensor(16., grad_fn=<PowBackward0>)"
      ]
     },
     "execution_count": 5,
     "metadata": {},
     "output_type": "execute_result"
    }
   ],
   "source": [
    "y=x**2\n",
    "y"
   ]
  },
  {
   "cell_type": "code",
   "execution_count": 6,
   "id": "c5eef999-b9f8-4152-ad52-005153832baa",
   "metadata": {},
   "outputs": [],
   "source": [
    "#### Back propogation y=2*x\n",
    "y.backward()"
   ]
  },
  {
   "cell_type": "code",
   "execution_count": 7,
   "id": "47faf8d0-7fe4-4a3b-bfd6-cae02e346167",
   "metadata": {},
   "outputs": [
    {
     "name": "stdout",
     "output_type": "stream",
     "text": [
      "tensor(8.)\n"
     ]
    }
   ],
   "source": [
    "print(x.grad)"
   ]
  },
  {
   "cell_type": "code",
   "execution_count": 8,
   "id": "5e51b31e-cac0-4b0d-8554-f16590df154a",
   "metadata": {},
   "outputs": [],
   "source": [
    "lst=[[2.,3.,1.],[4.,5.,3.],[7.,6.,4.]]\n",
    "torch_input=torch.tensor(lst,requires_grad=True)"
   ]
  },
  {
   "cell_type": "code",
   "execution_count": 9,
   "id": "c9724483-a194-45dd-b4bc-f1b8dcf60eeb",
   "metadata": {},
   "outputs": [
    {
     "data": {
      "text/plain": [
       "tensor([[2., 3., 1.],\n",
       "        [4., 5., 3.],\n",
       "        [7., 6., 4.]], requires_grad=True)"
      ]
     },
     "execution_count": 9,
     "metadata": {},
     "output_type": "execute_result"
    }
   ],
   "source": [
    "torch_input"
   ]
  },
  {
   "cell_type": "code",
   "execution_count": 10,
   "id": "5631a4fd-2cf8-4ad1-ba1a-a69770061a74",
   "metadata": {},
   "outputs": [],
   "source": [
    "### y=x**3+x**2\n",
    "### y=3x**2+2x--->\n",
    "y=torch_input**3+torch_input**2"
   ]
  },
  {
   "cell_type": "code",
   "execution_count": 11,
   "id": "cf0fa35b-ad09-4901-9ed4-14baf949b93c",
   "metadata": {},
   "outputs": [
    {
     "data": {
      "text/plain": [
       "tensor([[ 12.,  36.,   2.],\n",
       "        [ 80., 150.,  36.],\n",
       "        [392., 252.,  80.]], grad_fn=<AddBackward0>)"
      ]
     },
     "execution_count": 11,
     "metadata": {},
     "output_type": "execute_result"
    }
   ],
   "source": [
    "y"
   ]
  },
  {
   "cell_type": "code",
   "execution_count": 12,
   "id": "0333d739-0578-416a-9f82-ec81b49958a3",
   "metadata": {},
   "outputs": [],
   "source": [
    "z=y.sum()"
   ]
  },
  {
   "cell_type": "code",
   "execution_count": 13,
   "id": "bd39584d-e5ab-49b6-8668-6d5750208138",
   "metadata": {},
   "outputs": [
    {
     "data": {
      "text/plain": [
       "tensor(1040., grad_fn=<SumBackward0>)"
      ]
     },
     "execution_count": 13,
     "metadata": {},
     "output_type": "execute_result"
    }
   ],
   "source": [
    "z"
   ]
  },
  {
   "cell_type": "code",
   "execution_count": 14,
   "id": "712cb951-86c7-494d-b952-105cb97ac84b",
   "metadata": {},
   "outputs": [],
   "source": [
    "z.backward()"
   ]
  },
  {
   "cell_type": "code",
   "execution_count": 15,
   "id": "bbbfaf1d-9c72-40b4-9568-33cc09f5484f",
   "metadata": {},
   "outputs": [
    {
     "data": {
      "text/plain": [
       "tensor([[ 16.,  33.,   5.],\n",
       "        [ 56.,  85.,  33.],\n",
       "        [161., 120.,  56.]])"
      ]
     },
     "execution_count": 15,
     "metadata": {},
     "output_type": "execute_result"
    }
   ],
   "source": [
    "torch_input.grad"
   ]
  },
  {
   "cell_type": "code",
   "execution_count": null,
   "id": "76bc01f1-8cb4-41f0-a161-35aee174bee3",
   "metadata": {},
   "outputs": [],
   "source": []
  }
 ],
 "metadata": {
  "kernelspec": {
   "display_name": "Python 3 (ipykernel)",
   "language": "python",
   "name": "python3"
  },
  "language_info": {
   "codemirror_mode": {
    "name": "ipython",
    "version": 3
   },
   "file_extension": ".py",
   "mimetype": "text/x-python",
   "name": "python",
   "nbconvert_exporter": "python",
   "pygments_lexer": "ipython3",
   "version": "3.10.14"
  }
 },
 "nbformat": 4,
 "nbformat_minor": 5
}
